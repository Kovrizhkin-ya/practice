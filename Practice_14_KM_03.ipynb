{
  "nbformat": 4,
  "nbformat_minor": 0,
  "metadata": {
    "colab": {
      "name": "Practice_14_KM_01.ipynb",
      "provenance": [],
      "collapsed_sections": []
    },
    "kernelspec": {
      "name": "python3",
      "display_name": "Python 3.8.5 32-bit",
      "metadata": {
        "interpreter": {
          "hash": "47490fa54a736e020696dc34e97b4b86f6d72b2e5a1510b992af1610ca0b726b"
        }
      }
    }
  },
  "cells": [
    {
      "cell_type": "markdown",
      "metadata": {
        "id": "FMqboNwO4rVs"
      },
      "source": [
        "# **Курс \"Програмування на мові Python\"**\n",
        "\n",
        "##### Викладачі:\n",
        "##### Борисенко Павло Борисович\n",
        "##### Щьоголєв Максим Олегович\n"
      ]
    },
    {
      "cell_type": "markdown",
      "metadata": {
        "id": "A2T6MigL5Z06"
      },
      "source": [
        "## **Практичне зайняття №14**\n",
        "\n",
        "### Тема: \"Робота з файлами\""
      ]
    },
    {
      "cell_type": "markdown",
      "metadata": {
        "id": "cfCdgK2zXm7e"
      },
      "source": [
        "### **Завдання 1 (1,5 бали)**\n",
        "\n",
        "У 1939 році друком вийшов роман американського письменика Ернеста Вінсента Райта \"Ґедсбі\". Особливу увагу публіки він здобув через те, що письменник жодного разу не використав у романі літеру \"e\" (роман складається з більше ніж 50,000 слів), яка є найбільш вживаною літерою в англійській мові.\n",
        "\n",
        "Порахуйте кількість входжень кожної літери у текст роману. Виведіть список літер англійського алфавіту, а також інформацію про те, скільки відсотків від усіх літер тексту складає кожна літера алфавіту.\n",
        "\n",
        "Зауваження:\n",
        "\n",
        "1. Програма має ігнорувати будь-які символи, окрім літер.\n",
        "\n",
        "2. Переведіть усі літери у верхній або у нижній регістр.\n",
        "\n",
        "3. Під час виведення відсортуйте літери у порядку зменшення їхнього відсотка. Літера \"e\" має стояти на останньому місці у цьому списку.\n",
        "\n",
        "4. Виведіть перші 5 та останні 5 літер відсортованого списку разом з відсотковими значеннями, що їм відповідають."
      ]
    },
    {
      "cell_type": "code",
      "metadata": {
        "tags": [],
        "id": "u4-fHJJ6U462"
      },
      "source": [
        "file = open(\"gadsby.txt\")\n",
        "letters = []\n",
        "count = []\n",
        "itt = 0\n",
        "for symbol in file.read():\n",
        "    if symbol.isalpha(): \n",
        "        symbol = symbol.lower()\n",
        "        itt += 1\n",
        "        if symbol not in letters:\n",
        "            letters.append(symbol)\n",
        "            count.append(1)\n",
        "\n",
        "        count[letters.index(symbol)] += 1\n",
        "\n",
        "file.close()\n",
        "\n",
        "sorted_count = count.copy()\n",
        "sorted_count.sort(reverse = True)\n",
        "\n",
        "for i in range(5):\n",
        "    print(letters[count.index(sorted_count[i])], sorted_count[i] / itt * 100, \"%\")\n",
        "print()\n",
        "for i in range(-5, 0, 1):\n",
        "    print(letters[count.index(sorted_count[i])], sorted_count[i] / itt * 100, \"%\")\n",
        "\n",
        "\n"
      ],
      "execution_count": 82,
      "outputs": [
        {
          "output_type": "stream",
          "name": "stdout",
          "text": [
            "a 10.894022315948797 %\no 10.371655607135935 %\ni 8.791173294694193 %\nn 8.56183031388148 %\nt 8.53183575904682 %\n\ne 0.23441898240011816 %\nj 0.22518988860483788 %\nz 0.1070574880252508 %\nx 0.08167748008823014 %\nq 0.05306728932286139 %\n"
          ]
        }
      ]
    },
    {
      "cell_type": "markdown",
      "metadata": {
        "id": "A34oz70eU463"
      },
      "source": [
        "### **Завдання 2 (1,5 бали)**\n",
        "\n",
        "Створіть CSV-файл, що буде містити від 5 до 10 пісень (творів) вашого улюбленого музиканта. Назва файлу - ім'я музиканта (композитора) або назва гурту.\n",
        "\n",
        "1. Обов'язково додайте до файлу рядок з назвами двох колонок (Song, Year) або (Composition, Year).\n",
        "\n",
        "2. Після запису файлу роздрукуйте назву файлу та усі наявні у файлі рядки (включно із заголовками).\n",
        "\n",
        "3. Для запису та зчитування рядків скористайтесь функціями csv.DictWriter() та csv.DictReader()."
      ]
    },
    {
      "cell_type": "code",
      "metadata": {
        "id": "MEJIrG1GU463"
      },
      "source": [
        "import csv\n",
        "\n",
        "with open(\"Rammstein.csv\", \"w\", newline=\"\") as file:\n",
        "    writer = csv.DictWriter(file, fieldnames=[\"Song\", \"Year\"])\n",
        "    writer.writeheader()\n",
        "    writer.writerow({\"Song\" : \"Links 2 3 4\", \"Year\" : \"2001\"})\n",
        "    writer.writerow({\"Song\" : \"Sonne\", \"Year\" : \"2001\"})\n",
        "    writer.writerow({\"Song\" : \"Klavier\", \"Year\" : \"1997\"})\n",
        "    writer.writerow({\"Song\" : \"Moskaw\", \"Year\" : \"2004\"})\n",
        "    writer.writerow({\"Song\" : \"Deutschland\", \"Year\" : \"2019\"})\n",
        "    writer.writerow({\"Song\" : \"Puppe\", \"Year\" : \"2019\"})\n",
        "    writer.writerow({\"Song\" : \"Mein Herz brent\", \"Year\" : \"2001\"})\n",
        "    writer.writerow({\"Song\" : \"Laichtzeit\", \"Year\" : \"1997\"})\n",
        "    writer.writerow({\"Song\" : \"Stripped\", \"Year\" : \"2004\"})\n",
        "    writer.writerow({\"Song\" : \"Spring\", \"Year\" : \"2004\"})\n",
        "    file.close()\n",
        "\n",
        "with open(\"Rammstein.csv\", \"r\") as file:\n",
        "       csv_reader = csv.reader(file, delimiter=',')\n",
        "       for i in csv_reader:\n",
        "           print(\" - \".join(i))\n",
        "           \n",
        "       file.close()\n",
        "\n",
        "   "
      ],
      "execution_count": 71,
      "outputs": [
        {
          "output_type": "stream",
          "name": "stdout",
          "text": [
            "Song - Year\nLinks 2 3 4 - 2001\nSonne - 2001\nKlavier - 1997\nMoskaw - 2004\nDeutschland - 2019\nPuppe - 2019\nMein Herz brent - 2001\nLaichtzeit - 1997\nStripped - 2004\nSpring - 2004\n"
          ]
        }
      ]
    },
    {
      "cell_type": "markdown",
      "metadata": {
        "id": "Jb-eSBsWU464"
      },
      "source": [
        "### **Завдання 3 (бонусне, 1 бал)**\n",
        "\n",
        "COCO Dataset - набір фотографій та анотацій до них. Його дуже часто використовують для тренування класифікаторів, призначених для розпізнавання об'єктів та визначення ключових точок на зображеннях.\n",
        "\n",
        "Завантажте файли з описом фотографій COCO Dataset за посиланням: http://images.cocodataset.org/annotations/image_info_test2017.zip\n",
        "\n",
        "1. Відкрийте файл image_info_test-dev2017.json. Інформація про фотографії з бази COCO міститься у полі \"images\". Інформація про категорії, на які розділені всі фотографії, міститься у полі \"categories\".\n",
        "\n",
        "2. Визначте кількість фотографій, інформацію про які можна знайти у цьому файлі (кількість елементів, що відповідають ключу \"images\").\n",
        "\n",
        "3. Визначте кількість наявних категорій (кількість елементів, що відповідають ключу \"categories\").\n",
        "\n",
        "4. Виведіть посилання на фотографію 000000000001.jpg (\"coco_url\"), висоту цієї фотографії (\"height\"), ширину (\"width\") та її ідентифікатор (\"id\").\n",
        "\n",
        "5. Опис структури JSON-файлу для набору фотографій COCO можна знайти за посиланням: https://cocodataset.org/#format-data\n",
        "\n",
        "6. Щоб перевірити правильність результатів, у VS Code встановіть розширення JSON та відкрийте файл image_info_test-dev2017.json. Розширення автоматично визначає кількість елементів у кожному полі."
      ]
    },
    {
      "cell_type": "code",
      "metadata": {
        "id": "74C6WKB_U464"
      },
      "source": [],
      "execution_count": null,
      "outputs": []
    }
  ]
}