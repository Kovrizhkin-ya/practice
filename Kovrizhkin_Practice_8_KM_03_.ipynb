{
  "nbformat": 4,
  "nbformat_minor": 0,
  "metadata": {
    "colab": {
      "name": "Practice_7_KM-01_.ipynb",
      "provenance": [],
      "collapsed_sections": []
    },
    "kernelspec": {
      "name": "python3",
      "display_name": "Python 3"
    }
  },
  "cells": [
    {
      "cell_type": "markdown",
      "metadata": {
        "id": "FMqboNwO4rVs"
      },
      "source": [
        "# **Курс \"Програмування на мові Python\"**\n",
        "\n",
        "##### Викладачі:\n",
        "##### Борисенко Павло Борисович\n",
        "##### Щьоголєв Максим Олегович\n"
      ]
    },
    {
      "cell_type": "markdown",
      "metadata": {
        "id": "A2T6MigL5Z06"
      },
      "source": [
        "## **Практичне зайняття №8**\n",
        "\n",
        "### Тема: \"Робота з функціями. Локальні та глобальні змінні\""
      ]
    },
    {
      "cell_type": "markdown",
      "metadata": {
        "id": "cfCdgK2zXm7e"
      },
      "source": [
        "### **Завдання 1 (3 бали)**\n",
        "\n",
        "**Підрахувати визначник матриці, використовуючи перестановки та символ Леві-Чивіти.**\n",
        "\n",
        "Функція random_matrix() призначена для створення квадратної матриці випадкових чисел. Її змінювати непотрібно.\n",
        "\n",
        "Приклад використання методу permutations() для створення списку перестановок також подається у комірці з кодом.\n",
        "\n",
        "1) Створити 3 функції: функцію створення списку перестановок, функцію підрахунку добутків та функцію підрахунку загальної суми.\n",
        "\n",
        "2) Кожна функція має супроводжуватись рядком документації, що буде коротко описувати її призначення.\n",
        "\n",
        "3) Розмірність квадратної матриці має вводитись користувачем з клавіатури. Підрахунки виконувати лише в тому разі, якщо користувач введе ціле додатне число.\n",
        "\n",
        "4) Загальний результат повинен підраховуватись за допомогою композиції функцій.\n",
        "\n",
        "За бажання можна перевірити правильність роботи програми за допомогою функції np.linalg.det(a)."
      ]
    },
    {
      "cell_type": "code",
      "metadata": {
        "id": "ifNX2M7LXm7f"
      },
      "source": [
        "import numpy as np\n",
        "import itertools as itr\n",
        "\n",
        "def random_matrix(dim):\n",
        "    \"\"\"\n",
        "    The function generates dim x dim array of integers\n",
        "    between 0 and 10.\n",
        "    \"\"\"\n",
        "    matrix = np.random.randint(10, size = (dim, dim))\n",
        "    return matrix\n",
        "\n",
        "def factorial(n):\n",
        "    if n == 0:\n",
        "        return 1\n",
        "    return factorial(n - 1) * n\n",
        "    \"\"\"\n",
        "    The function finds factorial of n\n",
        "    \"\"\"\n",
        "\n",
        "def inversions(list):\n",
        "    invers = 0\n",
        "    for i in list:\n",
        "        for j in range(list.index(i), len(list)):\n",
        "            if i > list[j]:\n",
        "                invers += 1\n",
        "    return invers\n",
        "\n",
        "def permutation(n):\n",
        "    \"\"\"\n",
        "       Generates all permutation\n",
        "       \"\"\"\n",
        "    startarr = np.array([])\n",
        "    arrlist = []\n",
        "    for i in range(1, n + 1):\n",
        "        startarr = np.append(startarr, i)\n",
        "\n",
        "    for i in itr.permutations(startarr):\n",
        "        arr = list(i)\n",
        "        arrlist.append(arr)\n",
        "    arr = arrlist\n",
        "    return arr\n",
        "\n",
        "def product(n, matrix, arr):\n",
        "    products = np.array([])\n",
        "    for i in range(factorial(n)):\n",
        "        d = 1\n",
        "        for j in range(n):\n",
        "           d *= matrix[j][int(arr[i][j]) - 1]\n",
        "            \n",
        "        d *= ((-1) ** inversions(arr[i]))\n",
        "        products = np.append(products, d)\n",
        "\n",
        "    return products\n",
        "\n",
        "def sum(n):\n",
        "    s = 0\n",
        "    for i in product(n, matrix, permutation(n)):\n",
        "        s += int(i)\n",
        "    return s\n",
        "\n",
        "\n",
        "\n",
        "try:\n",
        "    n = int(input())\n",
        "    if n <= 0:\n",
        "       raise ValueError\n",
        "except:\n",
        "    print()\n",
        "matrix = random_matrix(n)\n",
        "\n",
        "print(sum(n))"
      ],
      "execution_count": null,
      "outputs": []
    }
  ]
}